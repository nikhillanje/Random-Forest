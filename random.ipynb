{
 "cells": [
  {
   "cell_type": "code",
   "execution_count": 1,
   "id": "a0f835c4",
   "metadata": {},
   "outputs": [
    {
     "name": "stdout",
     "output_type": "stream",
     "text": [
      "Prediction for Sunny, Mild, High, Weak → Play Tennis?: No\n"
     ]
    }
   ],
   "source": [
    "import pandas as pd\n",
    "from sklearn.preprocessing import LabelEncoder\n",
    "from sklearn.ensemble import RandomForestClassifier\n",
    "\n",
    "# Create the Play Tennis dataset\n",
    "data = {\n",
    "    'Outlook': ['Sunny', 'Sunny', 'Overcast', 'Rain', 'Rain', 'Rain',\n",
    "                'Overcast', 'Sunny', 'Sunny', 'Rain', 'Sunny', 'Overcast', 'Overcast', 'Rain'],\n",
    "    'Temperature': ['Hot', 'Hot', 'Hot', 'Mild', 'Cool', 'Cool',\n",
    "                    'Cool', 'Mild', 'Cool', 'Mild', 'Mild', 'Mild', 'Hot', 'Mild'],\n",
    "    'Humidity': ['High', 'High', 'High', 'High', 'Normal', 'Normal',\n",
    "                 'Normal', 'High', 'Normal', 'Normal', 'Normal', 'High', 'Normal', 'High'],\n",
    "    'Wind': ['Weak', 'Strong', 'Weak', 'Weak', 'Weak', 'Strong',\n",
    "             'Strong', 'Weak', 'Weak', 'Weak', 'Strong', 'Strong', 'Weak', 'Strong'],\n",
    "    'PlayTennis': ['No', 'No', 'Yes', 'Yes', 'Yes', 'No',\n",
    "                   'Yes', 'No', 'Yes', 'Yes', 'Yes', 'Yes', 'Yes', 'No']\n",
    "}\n",
    "\n",
    "# Convert to DataFrame\n",
    "df = pd.DataFrame(data)\n",
    "\n",
    "# Encode categorical variables\n",
    "label_encoders = {}\n",
    "for column in df.columns:\n",
    "    le = LabelEncoder()\n",
    "    df[column] = le.fit_transform(df[column])\n",
    "    label_encoders[column] = le\n",
    "#{'Outlook': [1,2,3], 'Temperature': le, 'Humidity': le, 'Wind': le, 'PlayTennis': le}\n",
    "\n",
    "# Separate features and target\n",
    "X = df[['Outlook', 'Temperature', 'Humidity', 'Wind']]\n",
    "y = df['PlayTennis']\n",
    "\n",
    "# Train Random Forest\n",
    "model = RandomForestClassifier(n_estimators=5, random_state=42)\n",
    "model.fit(X, y)\n",
    "\n",
    "# Predict on a new sample: Sunny, Mild, High, Weak (Day 8)\n",
    "new_sample = pd.DataFrame({\n",
    "    'Outlook': [label_encoders['Outlook'].transform(['Sunny'])[0]],\n",
    "    'Temperature': [label_encoders['Temperature'].transform(['Mild'])[0]],\n",
    "    'Humidity': [label_encoders['Humidity'].transform(['High'])[0]],\n",
    "    'Wind': [label_encoders['Wind'].transform(['Weak'])[0]]\n",
    "})\n",
    "\n",
    "prediction = model.predict(new_sample)\n",
    "predicted_label = label_encoders['PlayTennis'].inverse_transform(prediction)\n",
    "\n",
    "print(\"Prediction for Sunny, Mild, High, Weak → Play Tennis?:\", predicted_label[0])\n",
    "\n"
   ]
  },
  {
   "cell_type": "code",
   "execution_count": 2,
   "id": "ec76260b",
   "metadata": {},
   "outputs": [
    {
     "name": "stdout",
     "output_type": "stream",
     "text": [
      "Model and label encoders saved successfully!\n"
     ]
    }
   ],
   "source": [
    "# Save the model and label encoders\n",
    "import joblib\n",
    "joblib.dump(model, 'play_tennis_rf_model.joblib')\n",
    "joblib.dump(label_encoders, 'play_tennis_label_encoders.joblib')\n",
    "\n",
    "print(\"Model and label encoders saved successfully!\")"
   ]
  },
  {
   "cell_type": "code",
   "execution_count": 3,
   "id": "b0104962",
   "metadata": {},
   "outputs": [
    {
     "name": "stdout",
     "output_type": "stream",
     "text": [
      "Accuracy: 0.60\n",
      "Precision: 0.67\n",
      "Recall: 0.67\n",
      "F1 Score: 0.67\n",
      "Confusion Matrix:\n",
      " [[1 1]\n",
      " [1 2]]\n"
     ]
    }
   ],
   "source": [
    "from sklearn.metrics import accuracy_score, precision_score, recall_score, f1_score, confusion_matrix\n",
    "\n",
    "# Actual and predicted labels\n",
    "y_true = ['Yes', 'No', 'Yes', 'No', 'Yes']\n",
    "y_pred = ['Yes', 'Yes', 'Yes', 'No', 'No']\n",
    "\n",
    "# Convert to binary labels (1 = Yes, 0 = No)\n",
    "y_true_bin = [1 if label == 'Yes' else 0 for label in y_true]\n",
    "y_pred_bin = [1 if label == 'Yes' else 0 for label in y_pred]\n",
    "\n",
    "# Calculate metrics\n",
    "accuracy = accuracy_score(y_true_bin, y_pred_bin)\n",
    "precision = precision_score(y_true_bin, y_pred_bin)\n",
    "recall = recall_score(y_true_bin, y_pred_bin)\n",
    "f1 = f1_score(y_true_bin, y_pred_bin)\n",
    "conf_matrix = confusion_matrix(y_true_bin, y_pred_bin)\n",
    "\n",
    "print(f\"Accuracy: {accuracy:.2f}\")\n",
    "print(f\"Precision: {precision:.2f}\")\n",
    "print(f\"Recall: {recall:.2f}\")\n",
    "print(f\"F1 Score: {f1:.2f}\")\n",
    "print(\"Confusion Matrix:\\n\", conf_matrix)\n"
   ]
  }
 ],
 "metadata": {
  "kernelspec": {
   "display_name": "Python 3",
   "language": "python",
   "name": "python3"
  },
  "language_info": {
   "codemirror_mode": {
    "name": "ipython",
    "version": 3
   },
   "file_extension": ".py",
   "mimetype": "text/x-python",
   "name": "python",
   "nbconvert_exporter": "python",
   "pygments_lexer": "ipython3",
   "version": "3.11.9"
  }
 },
 "nbformat": 4,
 "nbformat_minor": 5
}
